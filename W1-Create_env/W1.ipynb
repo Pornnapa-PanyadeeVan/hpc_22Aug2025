{
 "cells": [
  {
   "cell_type": "markdown",
   "id": "2741c8ed",
   "metadata": {},
   "source": [
    "### Check Pytnon Version"
   ]
  },
  {
   "cell_type": "code",
   "execution_count": null,
   "id": "e4597640",
   "metadata": {},
   "outputs": [],
   "source": [
    "import sys\n",
    "print(sys.version)"
   ]
  },
  {
   "cell_type": "markdown",
   "id": "eca9120e",
   "metadata": {},
   "source": [
    "### Check Resource (CPU)"
   ]
  },
  {
   "cell_type": "code",
   "execution_count": null,
   "id": "d942032f-4535-43f5-8a3e-0f2ca781158b",
   "metadata": {},
   "outputs": [],
   "source": [
    "import os\n",
    "threads = os.environ.get(\"SLURM_CPUS_PER_TASK\", \"1\")\n",
    "print(f\"Detected number of CPUs from SLURM: {threads}\")"
   ]
  },
  {
   "cell_type": "markdown",
   "id": "a2720a2b",
   "metadata": {},
   "source": [
    "### Check Resource (GPU)"
   ]
  },
  {
   "cell_type": "code",
   "execution_count": null,
   "id": "a75b107b-1a12-43c3-95f6-92b9332a8a4b",
   "metadata": {},
   "outputs": [],
   "source": [
    "import torch\n",
    "if torch.cuda.is_available():\n",
    "    print(\"✅ GPU is available\")\n",
    "    print(\"GPU Name:\", torch.cuda.get_device_name(0))\n",
    "    print(\"Total GPUs:\", torch.cuda.device_count())\n",
    "else:\n",
    "    print(\"❌ No GPU available\")"
   ]
  },
  {
   "cell_type": "markdown",
   "id": "2f9fc67c-c723-47e8-8ea1-223b164b4f61",
   "metadata": {},
   "source": [
    "### MNIST Digit Classification (GPU)"
   ]
  },
  {
   "cell_type": "code",
   "execution_count": null,
   "id": "f1bbb786-5999-4816-9165-075fbf65f8bc",
   "metadata": {},
   "outputs": [],
   "source": [
    "import torch\n",
    "import torch.nn as nn\n",
    "import torch.optim as optim\n",
    "import torchvision\n",
    "import torchvision.transforms as transforms"
   ]
  },
  {
   "cell_type": "code",
   "execution_count": null,
   "id": "2e465c62-0996-45e8-8e5d-a91a62cc070a",
   "metadata": {},
   "outputs": [],
   "source": [
    "device = torch.device(\"cuda\" if torch.cuda.is_available() else \"cpu\")\n",
    "print(\"Using device:\", device)"
   ]
  },
  {
   "cell_type": "code",
   "execution_count": null,
   "id": "8553947f-f317-4073-a6ce-b3ecd5d27cb3",
   "metadata": {},
   "outputs": [],
   "source": [
    "# 1. เตรียม dataset (MNIST)\n",
    "transform = transforms.Compose([transforms.ToTensor(), transforms.Normalize((0.5,), (0.5,))])\n",
    "\n",
    "trainset = torchvision.datasets.MNIST(root=\"./data\", train=True, download=True, transform=transform)\n",
    "trainloader = torch.utils.data.DataLoader(trainset, batch_size=64, shuffle=True)\n",
    "\n",
    "testset = torchvision.datasets.MNIST(root=\"./data\", train=False, download=True, transform=transform)\n",
    "testloader = torch.utils.data.DataLoader(testset, batch_size=64, shuffle=False)\n"
   ]
  },
  {
   "cell_type": "code",
   "execution_count": null,
   "id": "8fc9a805-7068-4786-ad27-611657f78dd3",
   "metadata": {},
   "outputs": [],
   "source": [
    "# 3. สร้างโมเดลง่าย ๆ (Feedforward NN)\n",
    "class SimpleNN(nn.Module):\n",
    "    def __init__(self):\n",
    "        super(SimpleNN, self).__init__()\n",
    "        self.fc1 = nn.Linear(28*28, 128)\n",
    "        self.fc2 = nn.Linear(128, 64)\n",
    "        self.fc3 = nn.Linear(64, 10)\n",
    "\n",
    "    def forward(self, x):\n",
    "        x = x.view(-1, 28*28)   # Flatten\n",
    "        x = torch.relu(self.fc1(x))\n",
    "        x = torch.relu(self.fc2(x))\n",
    "        x = self.fc3(x)\n",
    "        return x\n",
    "\n",
    "model = SimpleNN().to(device)\n",
    "\n"
   ]
  },
  {
   "cell_type": "code",
   "execution_count": null,
   "id": "9ebf14b5-4b62-4dac-9244-1222356f208e",
   "metadata": {},
   "outputs": [],
   "source": [
    "# 4. Loss function & Optimizer\n",
    "criterion = nn.CrossEntropyLoss()\n",
    "optimizer = optim.Adam(model.parameters(), lr=0.001)\n",
    "\n",
    "train_losses = []\n",
    "test_accuracies = []\n",
    "\n",
    "# 5. Training  (5 epoch)\n",
    "for epoch in range(100):\n",
    "    running_loss = 0.0\n",
    "    model.train()\n",
    "    for images, labels in trainloader:\n",
    "        images, labels = images.to(device), labels.to(device)\n",
    "\n",
    "        optimizer.zero_grad()\n",
    "        outputs = model(images)\n",
    "        loss = criterion(outputs, labels)\n",
    "        loss.backward()\n",
    "        optimizer.step()\n",
    "\n",
    "        running_loss += loss.item()\n",
    "\n",
    "    avg_loss = running_loss / len(trainloader)\n",
    "    train_losses.append(avg_loss)\n",
    "\n",
    "    # Evaluate model\n",
    "    model.eval()\n",
    "    correct, total = 0, 0\n",
    "    with torch.no_grad():\n",
    "        for images, labels in testloader:\n",
    "            images, labels = images.to(device), labels.to(device)\n",
    "            outputs = model(images)\n",
    "            _, predicted = torch.max(outputs, 1)\n",
    "            total += labels.size(0)\n",
    "            correct += (predicted == labels).sum().item()\n",
    "\n",
    "    accuracy = 100 * correct / total\n",
    "    test_accuracies.append(accuracy)\n",
    "\n",
    "    print(f\"Epoch {epoch+1}, Loss: {avg_loss:.4f}, Test Accuracy: {accuracy:.2f}%\")"
   ]
  },
  {
   "cell_type": "code",
   "execution_count": null,
   "id": "c5e9a04b-fefb-4c7f-bf03-c04ead2ade9c",
   "metadata": {},
   "outputs": [],
   "source": [
    "# 6. Evaluate model\n",
    "model.eval()\n",
    "correct, total = 0, 0\n",
    "with torch.no_grad():\n",
    "    for images, labels in testloader:\n",
    "        images, labels = images.to(device), labels.to(device)\n",
    "        outputs = model(images)\n",
    "        _, predicted = torch.max(outputs, 1)\n",
    "        total += labels.size(0)\n",
    "        correct += (predicted == labels).sum().item()\n",
    "\n",
    "accuracy = 100 * correct / total\n",
    "test_accuracies.append(accuracy)"
   ]
  },
  {
   "cell_type": "code",
   "execution_count": null,
   "id": "a9f49a00-070d-400a-affd-0f385d5798b5",
   "metadata": {},
   "outputs": [],
   "source": [
    "print(f\"Test Accuracy: {100 * correct / total:.2f}%\")"
   ]
  },
  {
   "cell_type": "code",
   "execution_count": null,
   "id": "63b67ac0-75fd-463c-a489-b450f86e7190",
   "metadata": {},
   "outputs": [],
   "source": [
    "import matplotlib.pyplot as plt\n",
    "plt.figure(figsize=(12,5))\n",
    "\n",
    "# Loss plot\n",
    "plt.plot(train_losses, marker='o')\n",
    "plt.title(\"Training Loss\")\n",
    "plt.xlabel(\"Epoch\")\n",
    "plt.ylabel(\"Loss\")\n",
    "\n",
    "\n",
    "\n",
    "plt.show()"
   ]
  }
 ],
 "metadata": {
  "kernelspec": {
   "display_name": "w1env",
   "language": "python",
   "name": "w1env"
  },
  "language_info": {
   "codemirror_mode": {
    "name": "ipython",
    "version": 3
   },
   "file_extension": ".py",
   "mimetype": "text/x-python",
   "name": "python",
   "nbconvert_exporter": "python",
   "pygments_lexer": "ipython3",
   "version": "3.10.18"
  }
 },
 "nbformat": 4,
 "nbformat_minor": 5
}
