{
 "cells": [
  {
   "cell_type": "code",
   "execution_count": 1,
   "id": "99e1feb9-a281-4854-b19e-6e621cf1efad",
   "metadata": {},
   "outputs": [],
   "source": [
    "from diffusers import StableDiffusionPipeline\n",
    "import torch\n",
    "from PIL import Image\n",
    "from IPython.display import display\n",
    "import ipywidgets as widgets\n",
    "import matplotlib.pyplot as plt"
   ]
  },
  {
   "cell_type": "code",
   "execution_count": null,
   "id": "b8f7e3d7-ffe7-47a8-976d-85a246b271ce",
   "metadata": {},
   "outputs": [],
   "source": [
    "# model_path = \"stable_diffusion_v1_5\"\n",
    "# Path ของโมเดลในเครื่อง \n",
    "model_paths = {\n",
    "    # \"Stable Diffusion v1-4\": \"stable_diffusion_v1_4\",\n",
    "    # \"Stable Diffusion v1-5\": \"stable_diffusion_v1_5\",\n",
    "    # \"Waifu Diffusion\": \"waifu-diffusion\",\n",
    "    \"dreamlike-photoreal-2.0\": \"dreamlike-photoreal-2.0\"\n",
    "}"
   ]
  },
  {
   "cell_type": "code",
   "execution_count": 3,
   "id": "f47f1bb6-2c5b-4d9a-8b26-e759d0d9bc3c",
   "metadata": {},
   "outputs": [],
   "source": [
    "prompt_input = widgets.Textarea(\n",
    "    value='',\n",
    "    placeholder='Enter your prompt here...',\n",
    "    description='Prompt:',\n",
    "    layout=widgets.Layout(width='80%', height='100px')  # ปรับ width/height\n",
    ")\n"
   ]
  },
  {
   "cell_type": "code",
   "execution_count": null,
   "id": "a13a7068",
   "metadata": {},
   "outputs": [],
   "source": [
    "display(prompt_input)\n",
    "prompt = prompt_input.value"
   ]
  },
  {
   "cell_type": "code",
   "execution_count": null,
   "id": "c4023ff4",
   "metadata": {},
   "outputs": [],
   "source": [
    "results = {}\n",
    "for name, path in model_paths.items():\n",
    "    print(f\"Loading {name}...\")\n",
    "    pipe = StableDiffusionPipeline.from_pretrained(\n",
    "        path,\n",
    "        safety_checker=None,\n",
    "        torch_dtype=torch.float16\n",
    "    ).to(\"cuda\")\n",
    "\n",
    "    print(f\"Generating image with {name}...\")\n",
    "    image = pipe(prompt, height=512, width=512).images[0]\n",
    "    results[name] = image"
   ]
  },
  {
   "cell_type": "code",
   "execution_count": null,
   "id": "4c0120c6",
   "metadata": {},
   "outputs": [],
   "source": [
    "# แสดงผลลัพธ์เปรียบเทียบ\n",
    "fig, axs = plt.subplots(1, len(results), figsize=(5*len(results), 5))\n",
    "if len(results) == 1:\n",
    "    axs = [axs]\n",
    "\n",
    "for ax, (name, img) in zip(axs, results.items()):\n",
    "    ax.imshow(img)\n",
    "    ax.set_title(name, fontsize=14)\n",
    "    ax.axis(\"off\")\n",
    "\n",
    "plt.show()"
   ]
  }
 ],
 "metadata": {
  "kernelspec": {
   "display_name": "Python (image)",
   "language": "python",
   "name": "image"
  },
  "language_info": {
   "codemirror_mode": {
    "name": "ipython",
    "version": 3
   },
   "file_extension": ".py",
   "mimetype": "text/x-python",
   "name": "python",
   "nbconvert_exporter": "python",
   "pygments_lexer": "ipython3",
   "version": "3.10.18"
  }
 },
 "nbformat": 4,
 "nbformat_minor": 5
}
