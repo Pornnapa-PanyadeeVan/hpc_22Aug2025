{
 "cells": [
  {
   "cell_type": "markdown",
   "id": "56846e6a-71d3-4c05-9d71-83f3a5b0d866",
   "metadata": {},
   "source": [
    "### Download Huggingface \n",
    "https://huggingface.co/models?pipeline_tag=text-to-image&p=3&sort=downloads\n",
    "\n",
    "1. dreamlike-art/dreamlike-photoreal-2.0\n",
    "2. CompVis/stable-diffusion-v1-4\n",
    "3. lightx2v/Qwen-Image-Lightning\n",
    "4. stable-diffusion-v1-5/stable-diffusion-v1-5\n",
    "4. hakurei/waifu-diffusion"
   ]
  },
  {
   "cell_type": "code",
   "execution_count": null,
   "id": "f8daa733",
   "metadata": {},
   "outputs": [],
   "source": [
    "from huggingface_hub import snapshot_download"
   ]
  },
  {
   "cell_type": "code",
   "execution_count": null,
   "id": "ef85a48b-c2c1-465a-b9a0-57785e33a74f",
   "metadata": {},
   "outputs": [],
   "source": [
    "snapshot_download(\n",
    "    repo_id=\"dreamlike-art/dreamlike-photoreal-2.0\",\n",
    "    local_dir=\"./dreamlike-photoreal-2.0\"\n",
    ")"
   ]
  }
 ],
 "metadata": {
  "kernelspec": {
   "display_name": "Python 3",
   "language": "python",
   "name": "python3"
  },
  "language_info": {
   "codemirror_mode": {
    "name": "ipython",
    "version": 3
   },
   "file_extension": ".py",
   "mimetype": "text/x-python",
   "name": "python",
   "nbconvert_exporter": "python",
   "pygments_lexer": "ipython3",
   "version": "3.12.0"
  }
 },
 "nbformat": 4,
 "nbformat_minor": 5
}
